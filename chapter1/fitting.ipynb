{
 "cells": [
  {
   "cell_type": "markdown",
   "metadata": {},
   "source": [
    "##PRML Chapter 1. Polynominal curve fitting"
   ]
  },
  {
   "cell_type": "markdown",
   "metadata": {},
   "source": [
    "2015/04/11 ysmrnbt"
   ]
  },
  {
   "cell_type": "markdown",
   "metadata": {},
   "source": [
    "PRMLを読み始めた。\n",
    "読んでいると分かったつもりにはなるけれど、いざ人に説明しようとしてもできなかったり。\n",
    "式を追っていると混乱してきたり。\n",
    "というわけで、\n",
    "http://aidiary.hatenablog.com/entry/20100829/1283068351\n",
    "を参考に色々値変えて動かしながら考えてみることにした。\n",
    "使うのはipythonで。"
   ]
  },
  {
   "cell_type": "markdown",
   "metadata": {},
   "source": [
    "今回やるのは最小二乗法。PRML内では多項式曲線フィッティング。"
   ]
  },
  {
   "cell_type": "markdown",
   "metadata": {},
   "source": [
    "最小二乗法の手順は至ってシンプル。"
   ]
  },
  {
   "cell_type": "markdown",
   "metadata": {},
   "source": [
    "1. モデルとして使う多項式の次数を決めて\n",
    "2. 評価関数(実値との差分をみる関数)が最小になるように係数求める。"
   ]
  },
  {
   "cell_type": "markdown",
   "metadata": {},
   "source": [
    "まずはお決まりのグラフ化の一文"
   ]
  },
  {
   "cell_type": "code",
   "execution_count": 18,
   "metadata": {
    "collapsed": false
   },
   "outputs": [],
   "source": [
    "%matplotlib inline"
   ]
  },
  {
   "cell_type": "markdown",
   "metadata": {},
   "source": [
    "importは2個だけ"
   ]
  },
  {
   "cell_type": "code",
   "execution_count": 97,
   "metadata": {
    "collapsed": true
   },
   "outputs": [],
   "source": [
    "#coding:utf-8\n",
    "import numpy as np\n",
    "from pylab import *"
   ]
  },
  {
   "cell_type": "markdown",
   "metadata": {},
   "source": [
    "まずは実際の値を作る。sin波にランダムノイズを足したような点をN個(ここでは10個)作る。"
   ]
  },
  {
   "cell_type": "code",
   "execution_count": 83,
   "metadata": {
    "collapsed": false
   },
   "outputs": [
    {
     "data": {
      "text/plain": [
       "[<matplotlib.lines.Line2D at 0x10ecbfb50>]"
      ]
     },
     "execution_count": 83,
     "metadata": {},
     "output_type": "execute_result"
    },
    {
     "data": {
      "image/png": "[encoded data removed]",
      "text/plain": [
       "<matplotlib.figure.Figure at 0x10eafae10>"
      ]
     },
     "metadata": {},
     "output_type": "display_data"
    }
   ],
   "source": [
    "# number of training data\n",
    "N = 10\n",
    "\n",
    "# generate traing data of N points\n",
    "xlist = np.linspace(0, 1, N)     # abstract N points equally from 0 to 1\n",
    "tlist = np.sin(2 * np.pi * xlist) + np.random.normal(0, 0.2, xlist.size)  # add random numbers to sinusoidal wave\n",
    "\n",
    "#plot\n",
    "xlim(0.0, 1.0)                  # range of x axis\n",
    "ylim(-1.5, 1.5)                 # range of y axis\n",
    "plot(xlist, tlist, 'bo')        # plot training data by blue(b) point(o)"
   ]
  },
  {
   "cell_type": "markdown",
   "metadata": {},
   "source": [
    "なんかsin波が崩れた感じの点ができた。"
   ]
  },
  {
   "cell_type": "markdown",
   "metadata": {},
   "source": [
    "ちなみに使ったランダムノイズの中身はこんな感じ。"
   ]
  },
  {
   "cell_type": "code",
   "execution_count": 84,
   "metadata": {
    "collapsed": false
   },
   "outputs": [
    {
     "name": "stdout",
     "output_type": "stream",
     "text": [
      "[-0.28558705 -0.22169302  0.07981765 -0.31414016 -0.11794682 -0.26199927\n",
      " -0.08654735  0.29413899 -0.01163228 -0.06627262]\n"
     ]
    }
   ],
   "source": [
    "#contents of random numbers\n",
    "print np.random.normal(0, 0.2, xlist.size) "
   ]
  },
  {
   "cell_type": "markdown",
   "metadata": {},
   "source": [
    "この10個のノイズを各点に足してる。"
   ]
  },
  {
   "cell_type": "markdown",
   "metadata": {},
   "source": [
    "お次は理想的なsin波を重ね書き。"
   ]
  },
  {
   "cell_type": "code",
   "execution_count": 85,
   "metadata": {
    "collapsed": true
   },
   "outputs": [],
   "source": [
    "# original sinusoidal wave\n",
    "xs = np.linspace(0, 1, 1000)    # data points\n",
    "ideal = np.sin(2 * np.pi * xs)  # ideal sinusoidal wave"
   ]
  },
  {
   "cell_type": "code",
   "execution_count": 86,
   "metadata": {
    "collapsed": false,
    "scrolled": true
   },
   "outputs": [
    {
     "data": {
      "text/plain": [
       "[<matplotlib.lines.Line2D at 0x10eafa1d0>]"
      ]
     },
     "execution_count": 86,
     "metadata": {},
     "output_type": "execute_result"
    },
    {
     "data": {
      "image/png": "[encoded data removed]",
      "text/plain": [
       "<matplotlib.figure.Figure at 0x10eafad50>"
      ]
     },
     "metadata": {},
     "output_type": "display_data"
    }
   ],
   "source": [
    "#plot\n",
    "xlim(0.0, 1.0)                  # range of x axis\n",
    "ylim(-1.5, 1.5)                 # range of y axis\n",
    "plot(xlist, tlist, 'bo')        # plot training data by blue(b) point(o)\n",
    "plot(xs, ideal, 'g-')           #plot original data by green(g) line(-)"
   ]
  },
  {
   "cell_type": "markdown",
   "metadata": {},
   "source": [
    "ここから最小二乗法の始まり。まずは"
   ]
  },
  {
   "cell_type": "markdown",
   "metadata": {},
   "source": [
    "# 1. モデルとして使う多項式の次数を決めて"
   ]
  },
  {
   "cell_type": "markdown",
   "metadata": {},
   "source": [
    "の部分。次数を決めて、多項式をretとして定義。ここでは次数は10とかなり大きめ。"
   ]
  },
  {
   "cell_type": "code",
   "execution_count": 87,
   "metadata": {
    "collapsed": true
   },
   "outputs": [],
   "source": [
    "# M order polynominal\n",
    "M = 10\n",
    "def y(x, wlist):\n",
    "    ret = wlist[0]\n",
    "    for i in range(1, M+1):\n",
    "        ret += wlist[i] * (x ** i)\n",
    "    return ret"
   ]
  },
  {
   "cell_type": "markdown",
   "metadata": {},
   "source": [
    "wlistというのが係数で、次に求めるやつ。"
   ]
  },
  {
   "cell_type": "markdown",
   "metadata": {},
   "source": [
    "# 2. 評価関数(実値との差分をみる関数)が最小になるように係数求める。"
   ]
  },
  {
   "cell_type": "code",
   "execution_count": 92,
   "metadata": {
    "collapsed": true
   },
   "outputs": [],
   "source": [
    "# estimate paremeters from training data\n",
    "def estimate(xlist, tlist, lam):\n",
    "    # M+1 parameters exist when the order of polynominal is M\n",
    "    A = []\n",
    "    for i in range(M+1):\n",
    "        for j in range(M+1):\n",
    "            temp = (xlist**(i+j)).sum()\n",
    "            if i == j: temp += lam  # add lamda for regularization\n",
    "            A.append(temp)\n",
    "    A = array(A).reshape(M+1, M+1)\n",
    "\n",
    "    T = []\n",
    "    for i in range(M+1):\n",
    "        T.append(((xlist**i) * tlist).sum())\n",
    "    T = array(T)\n",
    "    \n",
    "    # calculate w\n",
    "    wlist = np.linalg.solve(A, T)\n",
    "    \n",
    "    return wlist"
   ]
  },
  {
   "cell_type": "markdown",
   "metadata": {},
   "source": [
    "詳しい解説はこちらで。http://aidiary.hatenablog.com/entry/20100327/1269657354"
   ]
  },
  {
   "cell_type": "markdown",
   "metadata": {},
   "source": [
    "上記事でもある通り、次数が10もあるとオーバーフィッティング(過学習)が起こる。全ての点にフィッティングしようとしてモデルがぐにゃぐにゃになってしまうという現象。これを調節するために正則化を行ってるのが上記プログラム内のlamってやつ。"
   ]
  },
  {
   "cell_type": "markdown",
   "metadata": {},
   "source": [
    "lamが0、つまり正則化してない時の係数(wlist)が以下。"
   ]
  },
  {
   "cell_type": "code",
   "execution_count": 96,
   "metadata": {
    "collapsed": false
   },
   "outputs": [
    {
     "name": "stdout",
     "output_type": "stream",
     "text": [
      "[  5.49926044e-02  -4.42600067e+02   1.10459642e+04  -1.08688753e+05\n",
      "   5.74198407e+05  -1.82474621e+06   3.65603660e+06  -4.65555307e+06\n",
      "   3.65637603e+06  -1.61538020e+06   3.07153731e+05]\n"
     ]
    }
   ],
   "source": [
    "# estimate parameters from training data\n",
    "wlist = estimate(xlist, tlist, 0)\n",
    "print wlist"
   ]
  },
  {
   "cell_type": "markdown",
   "metadata": {},
   "source": [
    "10の5乗とか6乗とかとにかく大きい。このモデルでは点に合わせすぎて係数が大きいぐにゃぐにゃモデルになってしまっている。"
   ]
  },
  {
   "cell_type": "code",
   "execution_count": 98,
   "metadata": {
    "collapsed": false
   },
   "outputs": [
    {
     "data": {
      "text/plain": [
       "[<matplotlib.lines.Line2D at 0x10f101790>]"
      ]
     },
     "execution_count": 98,
     "metadata": {},
     "output_type": "execute_result"
    },
    {
     "data": {
      "image/png": "[encoded data removed]",
      "text/plain": [
       "<matplotlib.figure.Figure at 0x10ef34690>"
      ]
     },
     "metadata": {},
     "output_type": "display_data"
    }
   ],
   "source": [
    "model = [y(x, wlist) for x in xs]  # estimated model\n",
    "xlim(0.0, 1.0)\n",
    "ylim(-1.5, 1.5)\n",
    "plot(xlist, tlist, 'bo')  # training data\n",
    "plot(xs, ideal, 'g-')     # ideal plot\n",
    "plot(xs, model, 'r-')     # estimated model"
   ]
  },
  {
   "cell_type": "markdown",
   "metadata": {},
   "source": [
    "こんな感じ。"
   ]
  },
  {
   "cell_type": "markdown",
   "metadata": {},
   "source": [
    "ここでlamとしてexponentialの-18乗を加えるだけで係数が以下の通り。"
   ]
  },
  {
   "cell_type": "code",
   "execution_count": 100,
   "metadata": {
    "collapsed": false
   },
   "outputs": [
    {
     "name": "stdout",
     "output_type": "stream",
     "text": [
      "[  4.96873402e-02   5.56770427e+00   2.77517900e+01  -1.95416505e+02\n",
      "   2.66014584e+02   4.39203850e+01  -1.94124851e+02  -1.32583076e+02\n",
      "   1.16992433e+02   2.29237219e+02  -1.67453799e+02]\n"
     ]
    }
   ],
   "source": [
    "# estimate parameters from training data\n",
    "wlist = estimate(xlist, tlist, np.exp(-18))\n",
    "print wlist"
   ]
  },
  {
   "cell_type": "code",
   "execution_count": 101,
   "metadata": {
    "collapsed": true
   },
   "outputs": [],
   "source": [
    "model = [y(x, wlist) for x in xs]  # estimated model"
   ]
  },
  {
   "cell_type": "markdown",
   "metadata": {},
   "source": [
    "グラフはこんな感じ。"
   ]
  },
  {
   "cell_type": "code",
   "execution_count": 102,
   "metadata": {
    "collapsed": false
   },
   "outputs": [
    {
     "data": {
      "text/plain": [
       "[<matplotlib.lines.Line2D at 0x10f319e90>]"
      ]
     },
     "execution_count": 102,
     "metadata": {},
     "output_type": "execute_result"
    },
    {
     "data": {
      "image/png": "[encoded data removed]",
      "text/plain": [
       "<matplotlib.figure.Figure at 0x10f1c7dd0>"
      ]
     },
     "metadata": {},
     "output_type": "display_data"
    }
   ],
   "source": [
    "xlim(0.0, 1.0)\n",
    "ylim(-1.5, 1.5)\n",
    "plot(xlist, tlist, 'bo')  # training data\n",
    "plot(xs, ideal, 'g-')     # ideal plot\n",
    "plot(xs, model, 'r-')     # estimated model"
   ]
  },
  {
   "cell_type": "markdown",
   "metadata": {},
   "source": [
    "以上。最小二乗法終わり。ちなみにpythonにはOLS(ordinary least square)とか最小二乗法の関数は既に入っているので、それも今度試してみる予定。"
   ]
  }
 ],
 "metadata": {
  "kernelspec": {
   "display_name": "Python 2",
   "language": "python",
   "name": "python2"
  },
  "language_info": {
   "codemirror_mode": {
    "name": "ipython",
    "version": 2
   },
   "file_extension": ".py",
   "mimetype": "text/x-python",
   "name": "python",
   "nbconvert_exporter": "python",
   "pygments_lexer": "ipython2",
   "version": "2.7.9"
  }
 },
 "nbformat": 4,
 "nbformat_minor": 0
}
